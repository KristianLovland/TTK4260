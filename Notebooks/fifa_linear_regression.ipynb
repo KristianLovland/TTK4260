{
 "nbformat": 4,
 "nbformat_minor": 2,
 "metadata": {
  "language_info": {
   "name": "python",
   "codemirror_mode": {
    "name": "ipython",
    "version": 3
   },
   "version": "3.7.4-final"
  },
  "orig_nbformat": 2,
  "file_extension": ".py",
  "mimetype": "text/x-python",
  "name": "python",
  "npconvert_exporter": "python",
  "pygments_lexer": "ipython3",
  "version": 3,
  "kernelspec": {
   "name": "python37464bitbaa70cb6fe3a4090bdd0ead452b1b626",
   "display_name": "Python 3.7.4 64-bit"
  }
 },
 "cells": [
  {
   "cell_type": "markdown",
   "metadata": {},
   "source": [
    "## FIFA overall skill prediction"
   ]
  },
  {
   "cell_type": "code",
   "execution_count": 1,
   "metadata": {},
   "outputs": [],
   "source": [
    "import numpy as np\n",
    "import pandas as pd\n",
    "import seaborn as sns\n",
    "import matplotlib.pyplot as plt\n",
    "from sklearn.decomposition import PCA"
   ]
  },
  {
   "cell_type": "code",
   "execution_count": 2,
   "metadata": {},
   "outputs": [],
   "source": [
    "# Prettier plots\n",
    "%config InlineBackend.figure_format = 'svg'\n",
    "\n",
    "sns.set_context(\"notebook\")\n",
    "sns.set(style=\"ticks\", font=\"Latin Modern Math\")"
   ]
  },
  {
   "cell_type": "code",
   "execution_count": 28,
   "metadata": {},
   "outputs": [],
   "source": [
    "datapath = \"../datasett/fifa-20-complete-player-dataset/players_20.csv\"\n",
    "player_data_all = pd.read_csv(datapath)\n",
    "player_data_all.sort_values('overall');\n",
    "\n",
    "# Remove goalkeepers :(\n",
    "player_data = player_data_all[player_data_all.loc[:, 'player_positions'] != 'GK']\n",
    "numerics = ['int16', 'int32', 'int64', 'float16', 'float32', 'float64']\n",
    "player_data = player_data.select_dtypes(include=numerics)\n",
    "player_data = player_data.dropna(axis='columns')"
   ]
  },
  {
   "cell_type": "markdown",
   "metadata": {},
   "source": [
    "### Predikér overall skillz som en lineær funksjon av alle andre skillz"
   ]
  },
  {
   "cell_type": "code",
   "execution_count": 53,
   "metadata": {},
   "outputs": [],
   "source": [
    "player_data_std = (player_data-player_data.mean(axis=0))/player_data.std(axis=0,ddof=1)\n",
    "y = player_data_std.loc[:, 'overall']\n",
    "x = player_data_std.drop('overall', axis='columns')\n",
    "A = np.linalg.lstsq(x, y)[0]"
   ]
  },
  {
   "cell_type": "code",
   "execution_count": 57,
   "metadata": {},
   "outputs": [
    {
     "output_type": "execute_result",
     "data": {
      "text/plain": "['potential',\n 'age',\n 'movement_reactions',\n 'skill_ball_control',\n 'defending',\n 'value_eur',\n 'passing',\n 'physic',\n 'mentality_vision',\n 'mentality_composure',\n 'movement_sprint_speed',\n 'movement_acceleration',\n 'attacking_heading_accuracy',\n 'pace',\n 'mentality_positioning',\n 'attacking_short_passing',\n 'skill_moves',\n 'defending_sliding_tackle',\n 'attacking_finishing',\n 'mentality_interceptions',\n 'power_shot_power',\n 'sofifa_id',\n 'mentality_aggression',\n 'skill_long_passing',\n 'international_reputation',\n 'weight_kg',\n 'power_stamina',\n 'power_long_shots',\n 'skill_curve',\n 'movement_balance',\n 'power_strength',\n 'defending_marking',\n 'defending_standing_tackle',\n 'dribbling',\n 'mentality_penalties',\n 'attacking_volleys',\n 'skill_dribbling',\n 'shooting',\n 'skill_fk_accuracy',\n 'goalkeeping_handling',\n 'weak_foot',\n 'goalkeeping_diving',\n 'goalkeeping_kicking',\n 'attacking_crossing',\n 'goalkeeping_reflexes',\n 'wage_eur',\n 'goalkeeping_positioning',\n 'power_jumping',\n 'height_cm',\n 'movement_agility']"
     },
     "metadata": {},
     "execution_count": 57
    }
   ],
   "source": [
    "skills = player_data.columns.drop('overall')\n",
    "# Sort skills descending by absolute value of weight in linear regression\n",
    "sorted_skills = [y for x, y in sorted(zip(abs(A), skills))]\n",
    "sorted_skills.reverse()\n",
    "sorted_skills"
   ]
  }
 ]
}