{
 "nbformat": 4,
 "nbformat_minor": 2,
 "metadata": {
  "language_info": {
   "name": "python",
   "codemirror_mode": {
    "name": "ipython",
    "version": 3
   },
   "version": "3.7.4-final"
  },
  "orig_nbformat": 2,
  "file_extension": ".py",
  "mimetype": "text/x-python",
  "name": "python",
  "npconvert_exporter": "python",
  "pygments_lexer": "ipython3",
  "version": 3,
  "kernelspec": {
   "name": "python37464bitbaa70cb6fe3a4090bdd0ead452b1b626",
   "display_name": "Python 3.7.4 64-bit"
  }
 },
 "cells": [
  {
   "cell_type": "code",
   "execution_count": 1,
   "metadata": {},
   "outputs": [],
   "source": [
    "import numpy as np\n",
    "import pandas as pd\n",
    "import seaborn as sns\n",
    "import matplotlib.pyplot as plt\n",
    "from sklearn.decomposition import PCA"
   ]
  },
  {
   "cell_type": "code",
   "execution_count": 2,
   "metadata": {},
   "outputs": [],
   "source": [
    "# Prettier plots\n",
    "%config InlineBackend.figure_format = 'svg'\n",
    "\n",
    "sns.set_context(\"notebook\")\n",
    "sns.set(style=\"ticks\", font=\"Latin Modern Math\")"
   ]
  },
  {
   "cell_type": "code",
   "execution_count": 3,
   "metadata": {},
   "outputs": [],
   "source": [
    "datapath = \"../datasett/fifa-20-complete-player-dataset/players_20.csv\"\n",
    "player_data_all = pd.read_csv(datapath)\n",
    "player_data_all.sort_values('overall');\n",
    "player_data = player_data_all.iloc[:, [2, 10, 18, 31, 32, 33, 34, 35, 36]]\n",
    "# Remove goalkeepers :(\n",
    "player_data = player_data.dropna();"
   ]
  },
  {
   "cell_type": "code",
   "execution_count": null,
   "metadata": {},
   "outputs": [],
   "source": []
  }
 ]
}